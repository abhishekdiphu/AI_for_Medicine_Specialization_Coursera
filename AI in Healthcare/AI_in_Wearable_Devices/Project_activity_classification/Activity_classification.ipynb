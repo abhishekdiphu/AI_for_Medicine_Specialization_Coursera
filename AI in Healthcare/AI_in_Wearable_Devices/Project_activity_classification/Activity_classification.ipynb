{
  "nbformat": 4,
  "nbformat_minor": 0,
  "metadata": {
    "colab": {
      "name": "Activity_classification.ipynb",
      "provenance": [],
      "collapsed_sections": []
    },
    "kernelspec": {
      "name": "python3",
      "display_name": "Python 3"
    },
    "language_info": {
      "name": "python"
    }
  },
  "cells": [
    {
      "cell_type": "code",
      "metadata": {
        "id": "BaRB0Sb4NfnR"
      },
      "source": [
        "import os\n",
        "\n",
        "from matplotlib import pyplot as plt\n",
        "import numpy as np\n",
        "import pandas as pd\n",
        "import scipy as sp\n",
        "import scipy.signal\n",
        "import scipy.stats\n",
        "from sklearn.ensemble import  RandomForestClassifier\n",
        "from sklearn.metrics import confusion_matrix\n",
        "from sklearn.model_selection import LeaveOneGroupOut\n",
        "\n",
        "import activity_classifier_utils"
      ],
      "execution_count": 25,
      "outputs": []
    },
    {
      "cell_type": "code",
      "metadata": {
        "id": "XKmzrHKxO6S4"
      },
      "source": [
        "fs = 256\n",
        "data = activity_classifier_utils.LoadWristPPGDataset()\n",
        "labels, subjects, features = activity_classifier_utils.GenerateFeatures(data,\n",
        "                                                                        fs,\n",
        "                                                                        window_length_s=10,\n",
        "                                                                        window_shift_s=10)"
      ],
      "execution_count": 26,
      "outputs": []
    },
    {
      "cell_type": "code",
      "metadata": {
        "id": "yNNp0aWwPHSs"
      },
      "source": [
        "n_estimators_opt = [2, 10, 20, 50, 100, 150, 300]\n",
        "max_tree_depth_opt = range(2, 7)\n",
        "class_names = np.array(['bike', 'run', 'walk'])\n",
        "logo = LeaveOneGroupOut()\n",
        "accuracy_table = []"
      ],
      "execution_count": 27,
      "outputs": []
    },
    {
      "cell_type": "code",
      "metadata": {
        "id": "wDmPJm7EPWZr"
      },
      "source": [
        "import itertools\n",
        "\n",
        "for n_estimators, max_tree_depth in itertools.product(n_estimators_opt, max_tree_depth_opt):\n",
        "    # Iterate over each pair of hyperparameters\n",
        "    cm = np.zeros((3, 3), dtype='int')                       # Create a new confusion matrix\n",
        "    clf = RandomForestClassifier(n_estimators=n_estimators,  # and a new classifier  for each\n",
        "                                 max_depth=max_tree_depth,   # pair of hyperparameters\n",
        "                                 random_state=42,\n",
        "                                 class_weight = \"balanced\"\n",
        "                                )\n",
        "    for train_ind, test_ind in logo.split(features, labels, subjects):\n",
        "        # Do leave-one-subject-out cross validation as before.\n",
        "        X_train, y_train = features[train_ind], labels[train_ind]\n",
        "        X_test, y_test = features[test_ind], labels[test_ind]\n",
        "        clf.fit(X_train, y_train)\n",
        "        y_pred = clf.predict(X_test)\n",
        "        c = confusion_matrix(y_test, y_pred, labels=class_names)\n",
        "        cm += c\n",
        "    # For each pair of hyperparameters, compute the classification accuracy\n",
        "    classification_accuracy = np.sum(np.diag(cm)) / np.sum(np.sum(cm))\n",
        "    \n",
        "    # Store the hyperparameters and the classification accuracy that resulted\n",
        "    # from the model created with them.\n",
        "    accuracy_table.append((n_estimators, max_tree_depth, classification_accuracy))"
      ],
      "execution_count": 19,
      "outputs": []
    },
    {
      "cell_type": "code",
      "metadata": {
        "colab": {
          "base_uri": "https://localhost:8080/",
          "height": 204
        },
        "id": "Vl59agHKPc1f",
        "outputId": "f1a88428-afd8-45ae-beac-b64e39589e8f"
      },
      "source": [
        "accuracy_table_df = pd.DataFrame(accuracy_table,\n",
        "                                 columns=['n_estimators', 'max_tree_depth', 'accuracy'])\n",
        "accuracy_table_df.head()"
      ],
      "execution_count": 20,
      "outputs": [
        {
          "output_type": "execute_result",
          "data": {
            "text/html": [
              "<div>\n",
              "<style scoped>\n",
              "    .dataframe tbody tr th:only-of-type {\n",
              "        vertical-align: middle;\n",
              "    }\n",
              "\n",
              "    .dataframe tbody tr th {\n",
              "        vertical-align: top;\n",
              "    }\n",
              "\n",
              "    .dataframe thead th {\n",
              "        text-align: right;\n",
              "    }\n",
              "</style>\n",
              "<table border=\"1\" class=\"dataframe\">\n",
              "  <thead>\n",
              "    <tr style=\"text-align: right;\">\n",
              "      <th></th>\n",
              "      <th>n_estimators</th>\n",
              "      <th>max_tree_depth</th>\n",
              "      <th>accuracy</th>\n",
              "    </tr>\n",
              "  </thead>\n",
              "  <tbody>\n",
              "    <tr>\n",
              "      <th>0</th>\n",
              "      <td>2</td>\n",
              "      <td>2</td>\n",
              "      <td>0.648118</td>\n",
              "    </tr>\n",
              "    <tr>\n",
              "      <th>1</th>\n",
              "      <td>2</td>\n",
              "      <td>3</td>\n",
              "      <td>0.646481</td>\n",
              "    </tr>\n",
              "    <tr>\n",
              "      <th>2</th>\n",
              "      <td>2</td>\n",
              "      <td>4</td>\n",
              "      <td>0.612111</td>\n",
              "    </tr>\n",
              "    <tr>\n",
              "      <th>3</th>\n",
              "      <td>2</td>\n",
              "      <td>5</td>\n",
              "      <td>0.657938</td>\n",
              "    </tr>\n",
              "    <tr>\n",
              "      <th>4</th>\n",
              "      <td>2</td>\n",
              "      <td>6</td>\n",
              "      <td>0.631751</td>\n",
              "    </tr>\n",
              "  </tbody>\n",
              "</table>\n",
              "</div>"
            ],
            "text/plain": [
              "   n_estimators  max_tree_depth  accuracy\n",
              "0             2               2  0.648118\n",
              "1             2               3  0.646481\n",
              "2             2               4  0.612111\n",
              "3             2               5  0.657938\n",
              "4             2               6  0.631751"
            ]
          },
          "metadata": {
            "tags": []
          },
          "execution_count": 20
        }
      ]
    },
    {
      "cell_type": "code",
      "metadata": {
        "colab": {
          "base_uri": "https://localhost:8080/"
        },
        "id": "4Hv36_oQPuvk",
        "outputId": "dd4d9eff-333b-4cdb-ed66-b15812f4c0f6"
      },
      "source": [
        "accuracy_table_df.loc[accuracy_table_df.accuracy.idxmax()]"
      ],
      "execution_count": 21,
      "outputs": [
        {
          "output_type": "execute_result",
          "data": {
            "text/plain": [
              "n_estimators      10.000000\n",
              "max_tree_depth     2.000000\n",
              "accuracy           0.746318\n",
              "Name: 5, dtype: float64"
            ]
          },
          "metadata": {
            "tags": []
          },
          "execution_count": 21
        }
      ]
    },
    {
      "cell_type": "code",
      "metadata": {
        "colab": {
          "base_uri": "https://localhost:8080/"
        },
        "id": "ls9GBBWbPz70",
        "outputId": "921549c3-4ca7-4ff2-d174-8300e7326844"
      },
      "source": [
        "class_names = ['bike', 'run', 'walk']\n",
        "\n",
        "# Store the confusion matrix for the outer CV fold.\n",
        "nested_cv_cm = np.zeros((3, 3), dtype='int')\n",
        "splits = 0\n",
        "\n",
        "for train_val_ind, test_ind in logo.split(features, labels, subjects):\n",
        "    # Split the dataset into a test set and a training + validation set.\n",
        "    # Model parameters (the random forest tree nodes) will be trained on the training set.\n",
        "    # Hyperparameters (how many trees and the max depth) will be trained on the validation set.\n",
        "    # Generalization error will be computed on the test set.\n",
        "    X_train_val, y_train_val = features[train_val_ind], labels[train_val_ind]\n",
        "    subjects_train_val = subjects[train_val_ind]\n",
        "    X_test, y_test = features[test_ind], labels[test_ind]\n",
        "    \n",
        "    # Keep track of the best hyperparameters for this training + validation set.\n",
        "    best_hyper_parames = None\n",
        "    best_accuracy = 0\n",
        "    \n",
        "    for n_estimators, max_tree_depth in itertools.product(n_estimators_opt,\n",
        "                                                          max_tree_depth_opt):\n",
        "        # Optimize hyperparameters as above.\n",
        "        inner_cm = np.zeros((3, 3), dtype='int')\n",
        "        clf = RandomForestClassifier(n_estimators=n_estimators,\n",
        "                                     max_depth=max_tree_depth,\n",
        "                                     random_state=42,\n",
        "                                     class_weight='balanced')\n",
        "        for train_ind, validation_ind in logo.split(X_train_val, y_train_val,\n",
        "                                                    subjects_train_val):\n",
        "            X_train, y_train = X_train_val[train_ind], y_train_val[train_ind]\n",
        "            X_val, y_val = X_train_val[validation_ind], y_train_val[validation_ind]\n",
        "            clf.fit(X_train, y_train)\n",
        "            y_pred = clf.predict(X_val)\n",
        "            c = confusion_matrix(y_val, y_pred, labels=class_names)\n",
        "            inner_cm += c\n",
        "        classification_accuracy = np.sum(np.diag(inner_cm)) / np.sum(np.sum((inner_cm)))\n",
        "        \n",
        "        # Keep track of the best pair of hyperparameters.\n",
        "        if classification_accuracy > best_accuracy:\n",
        "            best_accuracy = classification_accuracy\n",
        "            best_hyper_params = (n_estimators, max_tree_depth)\n",
        "    \n",
        "    # Create a model with the best pair of hyperparameters for this training + validation set.\n",
        "    best_clf = RandomForestClassifier(n_estimators=best_hyper_params[0],\n",
        "                                      max_depth=best_hyper_params[1],\n",
        "                                      class_weight='balanced')\n",
        "    \n",
        "    # Finally, train this model and test it on the test set.\n",
        "    best_clf.fit(X_train_val, y_train_val)\n",
        "    y_pred = best_clf.predict(X_test)\n",
        "    \n",
        "    # Aggregate confusion matrices for each CV fold.\n",
        "    c = confusion_matrix(y_test, y_pred, labels=class_names)\n",
        "    nested_cv_cm += c\n",
        "    splits += 1\n",
        "    print('Done split {}'.format(splits))\n"
      ],
      "execution_count": 7,
      "outputs": [
        {
          "output_type": "stream",
          "text": [
            "Done split 1\n",
            "Done split 2\n",
            "Done split 3\n",
            "Done split 4\n",
            "Done split 5\n",
            "Done split 6\n",
            "Done split 7\n",
            "Done split 8\n"
          ],
          "name": "stdout"
        }
      ]
    },
    {
      "cell_type": "code",
      "metadata": {
        "colab": {
          "base_uri": "https://localhost:8080/"
        },
        "id": "MohZRXmmP3ms",
        "outputId": "9174ac19-a42b-417d-a5b8-f1795cbe2498"
      },
      "source": [
        "np.sum(np.diag(nested_cv_cm)) / np.sum(np.sum(nested_cv_cm))"
      ],
      "execution_count": 8,
      "outputs": [
        {
          "output_type": "execute_result",
          "data": {
            "text/plain": [
              "0.6677577741407529"
            ]
          },
          "metadata": {
            "tags": []
          },
          "execution_count": 8
        }
      ]
    },
    {
      "cell_type": "code",
      "metadata": {
        "colab": {
          "base_uri": "https://localhost:8080/"
        },
        "id": "IAMF4Z47P8f6",
        "outputId": "bf3d5564-9c47-4f2f-831a-2115e353a947"
      },
      "source": [
        "clf = RandomForestClassifier(n_estimators=100,\n",
        "                             max_depth=4,\n",
        "                             random_state=42,\n",
        "                             class_weight='balanced')\n",
        "activity_classifier_utils.LOSOCVPerformance(features, labels, subjects, clf)\n",
        "feat = clf.feature_importances_\n",
        "print(len(feat))"
      ],
      "execution_count": 9,
      "outputs": [
        {
          "output_type": "stream",
          "text": [
            "55\n"
          ],
          "name": "stdout"
        }
      ]
    },
    {
      "cell_type": "code",
      "metadata": {
        "colab": {
          "base_uri": "https://localhost:8080/",
          "height": 331
        },
        "id": "Qj5HFAcJfCYK",
        "outputId": "aae61d16-e91e-4186-c99f-1a2236d97679"
      },
      "source": [
        "plt.figure(figsize=(30,10))\n",
        "plt.xticks(rotation=45)\n",
        "plt.bar(x =activity_classifier_utils.FeatureNames(), height= feat)"
      ],
      "execution_count": 10,
      "outputs": [
        {
          "output_type": "execute_result",
          "data": {
            "text/plain": [
              "<BarContainer object of 55 artists>"
            ]
          },
          "metadata": {
            "tags": []
          },
          "execution_count": 10
        },
        {
          "output_type": "display_data",
          "data": {
            "image/png": "[encoded data removed]",
            "text/plain": [
              "<Figure size 2160x720 with 1 Axes>"
            ]
          },
          "metadata": {
            "tags": [],
            "needs_background": "light"
          }
        }
      ]
    },
    {
      "cell_type": "code",
      "metadata": {
        "colab": {
          "base_uri": "https://localhost:8080/"
        },
        "id": "Gr7qLTH4P9oe",
        "outputId": "8bc343a8-bb04-4bee-fe85-d9a1feb45f00"
      },
      "source": [
        " sorted(list(zip(clf.feature_importances_, activity_classifier_utils.FeatureNames())), reverse=True)[:10]\n"
      ],
      "execution_count": 11,
      "outputs": [
        {
          "output_type": "execute_result",
          "data": {
            "text/plain": [
              "[(0.08974367031248157, 'energy_12_z'),\n",
              " (0.08671662576814966, 'p5_z'),\n",
              " (0.08400576038467573, 'energy_45_z'),\n",
              " (0.06682182257645457, 'std_y'),\n",
              " (0.06595043421828506, 'energy_34_z'),\n",
              " (0.06261544620382087, 'p25_z'),\n",
              " (0.05745142469573473, 'p10_z'),\n",
              " (0.04590935737028491, 'energy_y'),\n",
              " (0.036432851448179565, 'std_z'),\n",
              " (0.03448801783830703, 'p5_x')]"
            ]
          },
          "metadata": {
            "tags": []
          },
          "execution_count": 11
        }
      ]
    },
    {
      "cell_type": "code",
      "metadata": {
        "id": "euLkmqtAQE-M"
      },
      "source": [
        "sorted_features = sorted(zip(clf.feature_importances_, np.arange(len(clf.feature_importances_))), reverse=True)\n",
        "best_feature_indices = list(zip(*sorted_features))[1]\n",
        "X = features[:, best_feature_indices[:10]]"
      ],
      "execution_count": 12,
      "outputs": []
    },
    {
      "cell_type": "code",
      "metadata": {
        "colab": {
          "base_uri": "https://localhost:8080/"
        },
        "id": "F0_PdfiGQIXF",
        "outputId": "20773845-c10b-416b-99e8-8ead9adad77a"
      },
      "source": [
        "X.shape"
      ],
      "execution_count": 13,
      "outputs": [
        {
          "output_type": "execute_result",
          "data": {
            "text/plain": [
              "(611, 10)"
            ]
          },
          "metadata": {
            "tags": []
          },
          "execution_count": 13
        }
      ]
    },
    {
      "cell_type": "code",
      "metadata": {
        "colab": {
          "base_uri": "https://localhost:8080/",
          "height": 454
        },
        "id": "lv-GR6FsQK67",
        "outputId": "d634b63d-7c39-4f0a-d421-0cb4cbc577ff"
      },
      "source": [
        "cm = activity_classifier_utils.LOSOCVPerformance(X, labels, subjects, clf)\n",
        "activity_classifier_utils.PlotConfusionMatrix(cm, class_names, normalize=True)\n",
        "print('Classification accuracy = {:0.2f}'.format(np.sum(np.diag(cm)) / np.sum(np.sum(cm))))"
      ],
      "execution_count": 14,
      "outputs": [
        {
          "output_type": "stream",
          "text": [
            "Normalized confusion matrix\n",
            "[[0.93877551 0.06122449 0.        ]\n",
            " [0.05022831 0.87671233 0.07305936]\n",
            " [0.01360544 0.03401361 0.95238095]]\n",
            "Classification accuracy = 0.92\n"
          ],
          "name": "stdout"
        },
        {
          "output_type": "display_data",
          "data": {
            "image/png": "[encoded data removed]",
            "text/plain": [
              "<Figure size 576x360 with 2 Axes>"
            ]
          },
          "metadata": {
            "tags": [],
            "needs_background": "light"
          }
        }
      ]
    },
    {
      "cell_type": "code",
      "metadata": {
        "colab": {
          "base_uri": "https://localhost:8080/"
        },
        "id": "Txc-Y20ryylh",
        "outputId": "f475c8a4-ae3e-452f-8299-0510594aa716"
      },
      "source": [
        "!python train.py"
      ],
      "execution_count": 29,
      "outputs": [
        {
          "output_type": "stream",
          "text": [
            "   n_estimators  ...  accuracy\n",
            "0             2  ...  0.787234\n",
            "1             2  ...  0.605565\n",
            "2             2  ...  0.687398\n",
            "3             2  ...  0.657938\n",
            "4             2  ...  0.808511\n",
            "\n",
            "[5 rows x 3 columns]\n"
          ],
          "name": "stdout"
        }
      ]
    }
  ]
}